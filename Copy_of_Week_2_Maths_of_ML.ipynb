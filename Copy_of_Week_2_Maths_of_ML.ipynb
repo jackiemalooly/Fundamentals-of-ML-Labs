{
  "cells": [
    {
      "cell_type": "markdown",
      "metadata": {
        "id": "view-in-github",
        "colab_type": "text"
      },
      "source": [
        "<a href=\"https://colab.research.google.com/github/jackiemalooly/Fundamentals-of-ML-Labs/blob/main/Copy_of_Week_2_Maths_of_ML.ipynb\" target=\"_parent\"><img src=\"https://colab.research.google.com/assets/colab-badge.svg\" alt=\"Open In Colab\"/></a>"
      ]
    },
    {
      "cell_type": "markdown",
      "metadata": {
        "id": "MBZM0AQQixLD"
      },
      "source": [
        "<H1 style=\"text-align: center\"> EEEM066 - Fundamentals of Machine Learning</H1>\n",
        "<H1 style=\"text-align: center\">Week 2: Mathematics of Machine Learning</H1>\n",
        "\n",
        "> Dr. Xiatian (Eddy) Zhu, Dr Syed Sameed Husain\n",
        "\n",
        "> xiatian.zhu@surrey.ac.uk, sameed.husain@surrey.ac.uk\n",
        "\n"
      ]
    },
    {
      "cell_type": "markdown",
      "metadata": {
        "id": "mhOZ2CRjixLF"
      },
      "source": [
        "**Introduction**\n",
        "<!-- This lab is about the mathematics of machine learning.  -->\n",
        "Machine learning is fundamentally based on mathematics, which is essential for creating algorithms that can learn from data and make accurate predictions. It is crucial to have a solid understanding of the mathematical concepts behind any core machine learning algorithm. Since machine learning is primarily built on mathematical principles, understanding the purpose and application of these concepts will make the subject more engaging. This knowledge will also help you comprehend why certain machine learning algorithms are chosen over others and how these choices impact the performance of a machine learning model.\n",
        "\n",
        "\n",
        "In this lab, we will explore Python coding examples that demonstrate these mathematical operations in the context of machine learning.\n",
        "\n",
        "\n",
        "**Intended Audience:**\n",
        "We assume you have basic hands-on experience in Python programming. Our goal is to familiarise you with the mathematical operations essential for your coursework.\n",
        "\n",
        "Happy Programming!⚡⚡"
      ]
    },
    {
      "cell_type": "markdown",
      "metadata": {
        "id": "yehlQd49ixLF"
      },
      "source": [
        "# Contents\n",
        "\n",
        "<!-- 1. Vector operations\n",
        "2. Matrix operations\n",
        "3. Correlation and convariance\n",
        "4. Eigenvalues and eigenvectors\n",
        "5. Matrix decomposition -->\n",
        "\n",
        "*   [Vector operations](https://colab.research.google.com/drive/1gBfbHpONU7erZRweMmvmXs71andGQaYR#scrollTo=pjhFUPbGKgzt)\n",
        "*   [Matrix operations](https://colab.research.google.com/drive/1gBfbHpONU7erZRweMmvmXs71andGQaYR#scrollTo=xJ7xCS-JPkPb)\n",
        "*   [Convariance](https://colab.research.google.com/drive/1gBfbHpONU7erZRweMmvmXs71andGQaYR#scrollTo=JhxtNLpgixLJ)\n",
        "*   [Correlation](https://colab.research.google.com/drive/1gBfbHpONU7erZRweMmvmXs71andGQaYR#scrollTo=kZQJPZ3rixLJ)\n",
        "*   [Eigenvalues and eigenvectors](https://colab.research.google.com/drive/1gBfbHpONU7erZRweMmvmXs71andGQaYR#scrollTo=7j6yhmbEixLJ)\n",
        "*   [Matrix decomposition](https://colab.research.google.com/drive/1gBfbHpONU7erZRweMmvmXs71andGQaYR#scrollTo=6iUD3AX5ixLJ\n",
        ")\n"
      ]
    },
    {
      "cell_type": "markdown",
      "metadata": {
        "id": "hAgnPZOqixLF"
      },
      "source": [
        "## Python libraries required\n",
        "1. Numpy\n",
        "2. Seaborn\n",
        "3. Matplotlib"
      ]
    },
    {
      "cell_type": "markdown",
      "metadata": {
        "id": "pjhFUPbGKgzt"
      },
      "source": [
        "## Vector operations"
      ]
    },
    {
      "cell_type": "markdown",
      "metadata": {
        "id": "c_w7d0F0ixLF"
      },
      "source": [
        "\n",
        "In NumPy vectors are represented as n-dimensional arrays. To create a vector in 3-dimentsional space:"
      ]
    },
    {
      "cell_type": "code",
      "execution_count": null,
      "metadata": {
        "colab": {
          "base_uri": "https://localhost:8080/"
        },
        "id": "W0caYJraixLG",
        "outputId": "80bdfd6b-446d-45f1-b3f0-11c8a5a98897"
      },
      "outputs": [
        {
          "output_type": "stream",
          "name": "stdout",
          "text": [
            "(3, 1)\n"
          ]
        }
      ],
      "source": [
        "import numpy as np\n",
        "x = np.array([[1],[2],[3]])\n",
        "print(x.shape)"
      ]
    },
    {
      "cell_type": "markdown",
      "metadata": {
        "id": "ZmMqFnWcixLG"
      },
      "source": [
        "Vector-vector addition: Vector-vector addition is an element-wise operation, only defined for vectors of the same size"
      ]
    },
    {
      "cell_type": "code",
      "execution_count": null,
      "metadata": {
        "colab": {
          "base_uri": "https://localhost:8080/"
        },
        "id": "anCBgIdkixLH",
        "outputId": "4f62e298-b3d1-4c78-eb9b-f6aacd1d0252"
      },
      "outputs": [
        {
          "output_type": "stream",
          "name": "stdout",
          "text": [
            "[[ 5]\n",
            " [10]\n",
            " [10]]\n"
          ]
        }
      ],
      "source": [
        "x = np.array([[1],[2],[3]])\n",
        "y = np.array([[4],[8],[7]])\n",
        "z=np.add(x,y)\n",
        "print(z)"
      ]
    },
    {
      "cell_type": "markdown",
      "metadata": {
        "id": "X_5USYHuixLH"
      },
      "source": [
        "Vector-scalar multiplication: In NumPy, we compute scalar-vector multiplication with the * operator"
      ]
    },
    {
      "cell_type": "code",
      "execution_count": null,
      "metadata": {
        "colab": {
          "base_uri": "https://localhost:8080/"
        },
        "id": "P-EJDvuiixLH",
        "outputId": "6194547a-91d2-4956-d4d0-49beebbca8f4"
      },
      "outputs": [
        {
          "output_type": "execute_result",
          "data": {
            "text/plain": [
              "array([[2],\n",
              "       [4],\n",
              "       [6]])"
            ]
          },
          "metadata": {},
          "execution_count": 3
        }
      ],
      "source": [
        "alpha = 2\n",
        "x = np.array([[1],[2],[3]])\n",
        "alpha * x"
      ]
    },
    {
      "cell_type": "markdown",
      "metadata": {
        "id": "CnTIAHRrixLH"
      },
      "source": [
        "Vector-vector multiplication: dot product"
      ]
    },
    {
      "cell_type": "code",
      "execution_count": null,
      "metadata": {
        "colab": {
          "base_uri": "https://localhost:8080/"
        },
        "id": "4iswhRMUixLH",
        "outputId": "ccb1eba7-f3ec-4a8e-8d05-b4252a8f5ed4"
      },
      "outputs": [
        {
          "output_type": "stream",
          "name": "stdout",
          "text": [
            "[[-14]]\n"
          ]
        }
      ],
      "source": [
        "x, y = np.array([[-2],[2]]), np.array([[4],[-3]])\n",
        "z=np.dot(x.T,y)\n",
        "print(z)"
      ]
    },
    {
      "cell_type": "markdown",
      "metadata": {
        "id": "pTGSfgeyixLH"
      },
      "source": [
        "Vector norms: L2 norm, L1 norm and L-infinity norms"
      ]
    },
    {
      "cell_type": "code",
      "execution_count": null,
      "metadata": {
        "colab": {
          "base_uri": "https://localhost:8080/"
        },
        "id": "mgdVWa8TixLH",
        "outputId": "918ce8f8-328b-4084-b77a-57b3a48ccfe5"
      },
      "outputs": [
        {
          "output_type": "stream",
          "name": "stdout",
          "text": [
            "l1 norm=7.0\n",
            "l2 norm=5.0\n",
            "linf norm=4.0\n"
          ]
        }
      ],
      "source": [
        "x = np.array([[3],[4]])\n",
        "l1=np.linalg.norm(x, 1)\n",
        "print(f'l1 norm={l1}')\n",
        "l2=np.linalg.norm(x, 2)\n",
        "print(f'l2 norm={l2}')\n",
        "linf=np.linalg.norm(x, np.inf)\n",
        "print(f'linf norm={linf}')"
      ]
    },
    {
      "cell_type": "markdown",
      "metadata": {
        "id": "l0qKl8EGixLH"
      },
      "source": [
        "Distance measures betrween vectors: Euclidean distance"
      ]
    },
    {
      "cell_type": "code",
      "execution_count": null,
      "metadata": {
        "colab": {
          "base_uri": "https://localhost:8080/"
        },
        "id": "8wejWINLixLH",
        "outputId": "3ba03d7e-ef20-4013-e89e-50795eef5aab"
      },
      "outputs": [
        {
          "output_type": "stream",
          "name": "stdout",
          "text": [
            "||x-y||=8.36779540858881\n",
            "||x-z||=0.3872983346207417\n"
          ]
        }
      ],
      "source": [
        "x=np.array([[1.8],[2.0],[-3.7],[4.7]])\n",
        "y=np.array([[0.6],[2.1],[1.9],[-1.4]])\n",
        "z=np.array([[2.0],[1.9],[-4.0],[4.6]])\n",
        "d1=np.linalg.norm(x-y)\n",
        "print(f'||x-y||={d1}')\n",
        "d2=np.linalg.norm(x-z)\n",
        "print(f'||x-z||={d2}')"
      ]
    },
    {
      "cell_type": "markdown",
      "metadata": {
        "id": "xJ7xCS-JPkPb"
      },
      "source": [
        "## Matrix operations\n",
        "\n",
        "<!-- **Matrices algebra** -->"
      ]
    },
    {
      "cell_type": "markdown",
      "metadata": {
        "id": "-GWVtl7kixLH"
      },
      "source": [
        "Matrix transpose: we get the transpose of matrix A by switching the columns by the rows of A."
      ]
    },
    {
      "cell_type": "code",
      "execution_count": null,
      "metadata": {
        "colab": {
          "base_uri": "https://localhost:8080/"
        },
        "id": "j-HE3BTvixLI",
        "outputId": "2e108a76-00f7-41ad-d4ee-a434465478cd"
      },
      "outputs": [
        {
          "output_type": "execute_result",
          "data": {
            "text/plain": [
              "array([[1, 3, 5],\n",
              "       [2, 4, 6]])"
            ]
          },
          "metadata": {},
          "execution_count": 7
        }
      ],
      "source": [
        "A = np.array([[1, 2],[3, 4],[5, 6]])\n",
        "A.T"
      ]
    },
    {
      "cell_type": "markdown",
      "metadata": {
        "id": "XnXZ00-cixLI"
      },
      "source": [
        "Matrix-matrix addition: We add matrices in a element-wise fashion"
      ]
    },
    {
      "cell_type": "code",
      "execution_count": null,
      "metadata": {
        "colab": {
          "base_uri": "https://localhost:8080/"
        },
        "id": "ybjt_GXkixLI",
        "outputId": "9c9e9cac-d47b-4069-9877-05c412a8ce3a"
      },
      "outputs": [
        {
          "output_type": "execute_result",
          "data": {
            "text/plain": [
              "array([[ 3,  3],\n",
              "       [-2,  6]])"
            ]
          },
          "metadata": {},
          "execution_count": 8
        }
      ],
      "source": [
        "A = np.array([[0,2],[1,4]])\n",
        "B = np.array([[3,1],[-3,2]])\n",
        "np.add(A, B)"
      ]
    },
    {
      "cell_type": "markdown",
      "metadata": {
        "id": "hoFQnAtAixLI"
      },
      "source": [
        "Matrix-scalar multiplication\n",
        "Matrix-scalar multiplication is an element-wise operation. Each element of the matrix A\n",
        " is multiplied by the scalar α"
      ]
    },
    {
      "cell_type": "code",
      "execution_count": null,
      "metadata": {
        "colab": {
          "base_uri": "https://localhost:8080/"
        },
        "id": "SJZ7UQ2uixLI",
        "outputId": "691da9dd-a719-4933-a635-4167f9fc7acd"
      },
      "outputs": [
        {
          "output_type": "execute_result",
          "data": {
            "text/plain": [
              "array([[2, 4],\n",
              "       [6, 8]])"
            ]
          },
          "metadata": {},
          "execution_count": 9
        }
      ],
      "source": [
        "alpha = 2\n",
        "A = np.array([[1,2],[3,4]])\n",
        "np.multiply(alpha, A)"
      ]
    },
    {
      "cell_type": "markdown",
      "metadata": {
        "id": "aL961s2TixLI"
      },
      "source": [
        "Matrix-vector multiplication: dot product"
      ]
    },
    {
      "cell_type": "code",
      "execution_count": null,
      "metadata": {
        "colab": {
          "base_uri": "https://localhost:8080/"
        },
        "id": "x1lrsYAUixLI",
        "outputId": "779bdd4b-e8dd-4564-900d-8a8461a182ce"
      },
      "outputs": [
        {
          "output_type": "execute_result",
          "data": {
            "text/plain": [
              "array([[4],\n",
              "       [9]])"
            ]
          },
          "metadata": {},
          "execution_count": 10
        }
      ],
      "source": [
        "A = np.array([[0,2],[1,4]])\n",
        "x = np.array([[1],[2]])\n",
        "np.dot(A, x)"
      ]
    },
    {
      "cell_type": "markdown",
      "metadata": {
        "id": "x5kPf1vfixLI"
      },
      "source": [
        "Matrix-matrix multiplication"
      ]
    },
    {
      "cell_type": "code",
      "execution_count": null,
      "metadata": {
        "colab": {
          "base_uri": "https://localhost:8080/"
        },
        "id": "11hKRzzjixLI",
        "outputId": "16525003-09ec-4fa7-cd63-dee7e2659db5"
      },
      "outputs": [
        {
          "output_type": "execute_result",
          "data": {
            "text/plain": [
              "array([[4, 2],\n",
              "       [9, 7]])"
            ]
          },
          "metadata": {},
          "execution_count": 11
        }
      ],
      "source": [
        "A = np.array([[0,2],[1,4]])\n",
        "B = np.array([[1,3],[2,1]])\n",
        "np.dot(A, B)"
      ]
    },
    {
      "cell_type": "markdown",
      "metadata": {
        "id": "JZb_IH3yixLI"
      },
      "source": [
        "Matrix inverse"
      ]
    },
    {
      "cell_type": "code",
      "execution_count": null,
      "metadata": {
        "colab": {
          "base_uri": "https://localhost:8080/"
        },
        "id": "-VRAkFudixLI",
        "outputId": "c1237f90-021a-4258-e0d7-5d94b248c64e"
      },
      "outputs": [
        {
          "output_type": "stream",
          "name": "stdout",
          "text": [
            "A inverse:\n",
            "[[-7. -7.  6.]\n",
            " [ 2.  1. -1.]\n",
            " [ 4.  5. -4.]]\n",
            "A_i times A resulsts in I_3:\n",
            "[[ 1.  0.  0.]\n",
            " [ 0.  1. -0.]\n",
            " [ 0. -0.  1.]]\n"
          ]
        }
      ],
      "source": [
        "A = np.array([[1, 2, 1],[4, 4, 5],[6, 7, 7]])\n",
        "A_i = np.linalg.inv(A)\n",
        "print(f'A inverse:\\n{A_i}')\n",
        "I = np.round(np.matmul(A_i, A))\n",
        "print(f'A_i times A resulsts in I_3:\\n{I}')"
      ]
    },
    {
      "cell_type": "markdown",
      "metadata": {
        "id": "JhxtNLpgixLJ"
      },
      "source": [
        "## Convariance\n",
        "\n",
        "<!-- **Covariance** -->\n",
        "1. we’ll create a dataset that contains the test scores of 10 different students for three subjects: math, science, and history.\n",
        "2. Create the covariance matrix.\n",
        "3. Visualize the covariance matrix"
      ]
    },
    {
      "cell_type": "code",
      "execution_count": null,
      "metadata": {
        "colab": {
          "base_uri": "https://localhost:8080/",
          "height": 501
        },
        "id": "jn0eH29HixLJ",
        "outputId": "ba5df80b-ebe9-47bc-a09b-7274b5ddeeca"
      },
      "outputs": [
        {
          "output_type": "stream",
          "name": "stdout",
          "text": [
            "Covarince matrix:\n",
            "[[ 64.96  33.2  -24.44]\n",
            " [ 33.2   56.4  -24.1 ]\n",
            " [-24.44 -24.1   75.56]]\n"
          ]
        },
        {
          "output_type": "display_data",
          "data": {
            "text/plain": [
              "<Figure size 640x480 with 2 Axes>"
            ],
            "image/png": "[encoded data removed]"
          },
          "metadata": {}
        }
      ],
      "source": [
        "## Seaborn and matplotlib package\n",
        "import seaborn as sns\n",
        "import matplotlib.pyplot as plt\n",
        "\n",
        "## test scores of 10 different students for three subjects: math, science, and history\n",
        "math = [84, 82, 81, 89, 73, 94, 92, 70, 88, 95]\n",
        "science = [85, 82, 72, 77, 75, 89, 95, 84, 77, 94]\n",
        "history = [97, 94, 93, 95, 88, 82, 78, 84, 69, 78]\n",
        "\n",
        "data = np.array([math, science, history])\n",
        "## compute covaince matrix\n",
        "C=np.cov(data, bias=True)\n",
        "print(f'Covarince matrix:\\n{C}')\n",
        "\n",
        "## Display the covariance matrix\n",
        "labs = ['math', 'science', 'history']\n",
        "sns.heatmap(C, annot=True, fmt='g', xticklabels=labs, yticklabels=labs)\n",
        "plt.show()"
      ]
    },
    {
      "cell_type": "markdown",
      "metadata": {
        "id": "kZQJPZ3rixLJ"
      },
      "source": [
        "<!-- **Correlation** -->\n",
        "## Correlation"
      ]
    },
    {
      "cell_type": "markdown",
      "metadata": {
        "id": "jToyDR5-ixLJ"
      },
      "source": [
        "1. Create the Correlation matrix.\n",
        "2. Visualize the Correlation matrix"
      ]
    },
    {
      "cell_type": "code",
      "execution_count": null,
      "metadata": {
        "colab": {
          "base_uri": "https://localhost:8080/",
          "height": 506
        },
        "id": "bRB_QlHHixLJ",
        "outputId": "9b1aa4b9-3e21-4997-f2bb-74f4139d19c9"
      },
      "outputs": [
        {
          "output_type": "stream",
          "name": "stdout",
          "text": [
            "Correlation matrix:\n",
            "[[ 1.          0.5484986  -0.34884477]\n",
            " [ 0.5484986   1.         -0.36917435]\n",
            " [-0.34884477 -0.36917435  1.        ]]\n"
          ]
        },
        {
          "output_type": "display_data",
          "data": {
            "text/plain": [
              "<Figure size 640x480 with 2 Axes>"
            ],
            "image/png": "[encoded data removed]"
          },
          "metadata": {}
        }
      ],
      "source": [
        "math = [84, 82, 81, 89, 73, 94, 92, 70, 88, 95]\n",
        "science = [85, 82, 72, 77, 75, 89, 95, 84, 77, 94]\n",
        "history = [97, 94, 93, 95, 88, 82, 78, 84, 69, 78]\n",
        "\n",
        "data = np.array([math, science, history])\n",
        "## compute the Correlation matrix\n",
        "C=np.corrcoef(data)\n",
        "print(f'Correlation matrix:\\n{C}')\n",
        "\n",
        "## Display the Correlation matrix\n",
        "labs = ['math', 'science', 'history']\n",
        "sns.heatmap(C, annot=True, fmt='g', xticklabels=labs, yticklabels=labs)\n",
        "plt.show()"
      ]
    },
    {
      "cell_type": "markdown",
      "metadata": {
        "id": "7j6yhmbEixLJ"
      },
      "source": [
        "<!-- **Eigenvalues and Eigenvectors** -->\n",
        "## Eigenvalues and eigenvectors"
      ]
    },
    {
      "cell_type": "code",
      "execution_count": null,
      "metadata": {
        "colab": {
          "base_uri": "https://localhost:8080/"
        },
        "id": "sU2nG6RfixLJ",
        "outputId": "dad433b4-70f4-435f-bf19-02ec51b5d81f"
      },
      "outputs": [
        {
          "output_type": "stream",
          "name": "stdout",
          "text": [
            "E-value: [ 8.80916362  0.92620912 -0.73537273]\n",
            "E-vector [[-0.52799324 -0.77557092 -0.36272811]\n",
            " [-0.604391    0.62277013 -0.7103262 ]\n",
            " [-0.59660259 -0.10318482  0.60321224]]\n"
          ]
        }
      ],
      "source": [
        "a = np.array([[2, 2, 4],\n",
        "              [1, 3, 5],\n",
        "              [2, 3, 4]])\n",
        "w,v=np.linalg.eig(a)\n",
        "print('E-value:', w)\n",
        "print('E-vector', v)"
      ]
    },
    {
      "cell_type": "markdown",
      "metadata": {
        "id": "6iUD3AX5ixLJ"
      },
      "source": [
        "<!-- **Singular value decomposition** -->\n",
        "## Matrix decomposition"
      ]
    },
    {
      "cell_type": "code",
      "execution_count": null,
      "metadata": {
        "colab": {
          "base_uri": "https://localhost:8080/"
        },
        "id": "O8Hi5aX7ixLT",
        "outputId": "c3a4843e-5127-4cd4-ac96-b5483046ebbf"
      },
      "outputs": [
        {
          "output_type": "stream",
          "name": "stdout",
          "text": [
            "U= [[-0.73553325 -0.18392937 -0.65204358]\n",
            " [-0.42657919 -0.62196982  0.65664582]\n",
            " [-0.52632788  0.76113306  0.37901904]]\n",
            "V= [[-0.52799324 -0.77557092 -0.36272811]\n",
            " [-0.604391    0.62277013 -0.7103262 ]\n",
            " [-0.59660259 -0.10318482  0.60321224]]\n",
            "[[3. 4. 3.]\n",
            " [1. 2. 3.]\n",
            " [4. 2. 1.]]\n"
          ]
        }
      ],
      "source": [
        "# Singular value decomposition\n",
        "#Creating a matrix A\n",
        "A = np.array([[3,4,3],[1,2,3],[4,2,1]])\n",
        "\n",
        "#Performing SVD\n",
        "U, D, VT = np.linalg.svd(A)\n",
        "print('U=', U)\n",
        "print('V=', v)\n",
        "\n",
        "#Checking if we can remake the original matrix using U,D,VT\n",
        "A_remake = (U @ np.diag(D) @ VT)\n",
        "print(A_remake)"
      ]
    },
    {
      "cell_type": "markdown",
      "metadata": {
        "id": "yh-jahWtixLT"
      },
      "source": [
        "Distance metrics\n",
        "1. Manhattan\n",
        "2. Euclidean\n",
        "3. Cosine"
      ]
    },
    {
      "cell_type": "code",
      "execution_count": null,
      "metadata": {
        "colab": {
          "base_uri": "https://localhost:8080/"
        },
        "id": "nGVEH0gIixLT",
        "outputId": "f019dddb-993f-423a-f650-1f0d81939cc2"
      },
      "outputs": [
        {
          "output_type": "stream",
          "name": "stdout",
          "text": [
            "Manhattan distance between x and y is=13.0\n",
            "Manhattan distance between x and z is=0.7000000000000004\n",
            "Euclidean distance between x and y is=8.367795408588812\n",
            "Euclidean distance between x and z is=0.3872983346207417\n",
            "cosine distance between x and y is=1.3949567395200553\n",
            "cosine distance between x and z is=0.0015102223436855855\n"
          ]
        }
      ],
      "source": [
        "from scipy.spatial import distance\n",
        "x=(1.8,2.0,-3.7,4.7)\n",
        "y=(0.6,2.1,1.9,-1.4)\n",
        "z=(2.0,1.9,-4.0,4.6)\n",
        "## Computing the Manhattan Distance\n",
        "dm_xy = distance.cityblock(x, y)\n",
        "dm_xz = distance.cityblock(x, z)\n",
        "print(f'Manhattan distance between x and y is={dm_xy}')\n",
        "print(f'Manhattan distance between x and z is={dm_xz}')\n",
        "\n",
        "## Computing the Euclidean Distance\n",
        "dm_xy = distance.euclidean(x, y)\n",
        "dm_xz = distance.euclidean(x, z)\n",
        "print(f'Euclidean distance between x and y is={dm_xy}')\n",
        "print(f'Euclidean distance between x and z is={dm_xz}')\n",
        "\n",
        "## Computing the cosine Distance\n",
        "dm_xy = distance.cosine(x, y)\n",
        "dm_xz = distance.cosine(x, z)\n",
        "print(f'cosine distance between x and y is={dm_xy}')\n",
        "print(f'cosine distance between x and z is={dm_xz}')\n",
        "\n"
      ]
    }
  ],
  "metadata": {
    "colab": {
      "provenance": [],
      "include_colab_link": true
    },
    "kernelspec": {
      "display_name": "Python 3",
      "language": "python",
      "name": "python3"
    },
    "language_info": {
      "codemirror_mode": {
        "name": "ipython",
        "version": 3
      },
      "file_extension": ".py",
      "mimetype": "text/x-python",
      "name": "python",
      "nbconvert_exporter": "python",
      "pygments_lexer": "ipython3",
      "version": "3.11.5"
    },
    "orig_nbformat": 4
  },
  "nbformat": 4,
  "nbformat_minor": 0
}