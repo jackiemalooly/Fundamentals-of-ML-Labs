{
  "cells": [
    {
      "cell_type": "markdown",
      "metadata": {
        "id": "view-in-github",
        "colab_type": "text"
      },
      "source": [
        "<a href=\"https://colab.research.google.com/github/jackiemalooly/Fundamentals-of-ML-Labs/blob/main/Copy_of_Week_3_Regression.ipynb\" target=\"_parent\"><img src=\"https://colab.research.google.com/assets/colab-badge.svg\" alt=\"Open In Colab\"/></a>"
      ]
    },
    {
      "cell_type": "markdown",
      "metadata": {
        "id": "SvUTvlbxQ4Fo"
      },
      "source": [
        "<H1 style=\"text-align: center\">EEEM066 - Fundamentals of Machine Learning</H1>\n",
        "<H1 style=\"text-align: center\">Week 3: Regression</H1>\n",
        "\n",
        "> Dr. Xiatian (Eddy) Zhu, Dr Syed Sameed Husain\n",
        "\n",
        "> xiatian.zhu@surrey.ac.uk, sameed.husain@surrey.ac.uk\n"
      ]
    },
    {
      "cell_type": "markdown",
      "metadata": {
        "id": "AGZ4DzdATebU"
      },
      "source": [
        "**Introduction**\n",
        "\n",
        "This lab session is designed to introduce the fundamentals of regression analysis, providing a comprehensive overview of how to solve a regression problem using statistical methods and simulated data sets.\n",
        "\n",
        "Happy Programming!⚡⚡"
      ]
    },
    {
      "cell_type": "markdown",
      "metadata": {
        "id": "IBdnieZXyrGm"
      },
      "source": [
        "# Sources:\n",
        "* This notebook used (and modified) code from the following repos and sources:\n",
        "    * https://github.com/jonkrohn/ML-foundations\n",
        "    * https://github.com/valerija-h/CS551G-Assignment-1.git\n",
        "    * https://lilianweng.github.io/"
      ]
    },
    {
      "cell_type": "markdown",
      "metadata": {
        "id": "2qxboaAJSP-R"
      },
      "source": [
        "# Contents\n",
        "\n",
        "*   [Data (preparing and loading)](https://colab.research.google.com/drive/1R9sd0vYh2OvIvDZ0BTPt27FLMCOTw2-q#scrollTo=fEDUKrb1yrGo)\n",
        "*   [Let's build a linear regression model!](https://colab.research.google.com/drive/1R9sd0vYh2OvIvDZ0BTPt27FLMCOTw2-q#scrollTo=kth-JMp5yrGp)\n",
        "*   [Estimate model parameters with least square minimizer](https://colab.research.google.com/drive/1R9sd0vYh2OvIvDZ0BTPt27FLMCOTw2-q#scrollTo=srdxq9dFyrGr)\n",
        "*   [[Optional below] Training `LinearRegressionModel()` with gradient descent](https://colab.research.google.com/drive/1R9sd0vYh2OvIvDZ0BTPt27FLMCOTw2-q#scrollTo=TSsm-xcAyrGr)\n",
        "*   [Making predictions with the two above models (inference)](https://colab.research.google.com/drive/1R9sd0vYh2OvIvDZ0BTPt27FLMCOTw2-q#scrollTo=AsULpqO7yrGv)\n"
      ]
    },
    {
      "cell_type": "markdown",
      "metadata": {
        "id": "GVS-H__1yrGn"
      },
      "source": [
        "In this notebook, you will be introduced to solving linear regression problems using synthetic data in PyTorch. We will first present a model in PyTorch and solve it.\n"
      ]
    },
    {
      "cell_type": "code",
      "execution_count": null,
      "metadata": {
        "colab": {
          "base_uri": "https://localhost:8080/",
          "height": 36
        },
        "id": "ov8TJE6DyrGn",
        "outputId": "6ed089a2-4ad0-4a13-8660-bb9751209e22"
      },
      "outputs": [
        {
          "output_type": "execute_result",
          "data": {
            "text/plain": [
              "'2.4.1+cu121'"
            ],
            "application/vnd.google.colaboratory.intrinsic+json": {
              "type": "string"
            }
          },
          "metadata": {},
          "execution_count": 1
        }
      ],
      "source": [
        "import torch\n",
        "from torch import nn # nn contains all of PyTorch's building blocks for neural networks\n",
        "import matplotlib.pyplot as plt\n",
        "\n",
        "# Check PyTorch version\n",
        "torch.__version__"
      ]
    },
    {
      "cell_type": "markdown",
      "metadata": {
        "id": "fEDUKrb1yrGo"
      },
      "source": [
        "## 1. Data (preparing and loading)"
      ]
    },
    {
      "cell_type": "markdown",
      "metadata": {
        "id": "NoIs17OIyrGo"
      },
      "source": [
        "Let's create synthetic data"
      ]
    },
    {
      "cell_type": "code",
      "execution_count": null,
      "metadata": {
        "colab": {
          "base_uri": "https://localhost:8080/"
        },
        "id": "x5TPI5DWyrGo",
        "outputId": "6fcbaf1d-70f2-452a-96b6-e8b405ee6106"
      },
      "outputs": [
        {
          "output_type": "execute_result",
          "data": {
            "text/plain": [
              "(tensor([[0.0000],\n",
              "         [0.0200],\n",
              "         [0.0400],\n",
              "         [0.0600],\n",
              "         [0.0800],\n",
              "         [0.1000],\n",
              "         [0.1200],\n",
              "         [0.1400],\n",
              "         [0.1600],\n",
              "         [0.1800]]),\n",
              " tensor([[0.3193],\n",
              "         [0.3289],\n",
              "         [0.3370],\n",
              "         [0.3209],\n",
              "         [0.3628],\n",
              "         [0.3577],\n",
              "         [0.3836],\n",
              "         [0.3820],\n",
              "         [0.4045],\n",
              "         [0.4425]]))"
            ]
          },
          "metadata": {},
          "execution_count": 2
        }
      ],
      "source": [
        "# Set random seed for reproducibility\n",
        "torch.manual_seed(42)\n",
        "\n",
        "# Create *known* parameters\n",
        "weight = 0.7\n",
        "bias = 0.3\n",
        "\n",
        "# Create data\n",
        "start = 0\n",
        "end = 1\n",
        "step = 0.02\n",
        "\n",
        "X = torch.arange(start, end, step).unsqueeze(dim=1)\n",
        "# this is just the equation of the line. the weight and bias are the 'trainable' parameters in it. So, we will try to find parameter values that when the data X is plugged into the equation we get y's (predictions) that are as close as possilble to the real (ground truth/targets) y's\n",
        "y = weight * X + bias\n",
        "\n",
        "# Add noise\n",
        "noise_mean = 0\n",
        "noise_stddev = 0.01  # adjust the standard deviation to control the amount of noise\n",
        "noise = torch.normal(mean=noise_mean, std=noise_stddev, size=y.size())\n",
        "\n",
        "# Add noise to y\n",
        "y = y + noise\n",
        "\n",
        "X[:10], y[:10]"
      ]
    },
    {
      "cell_type": "markdown",
      "metadata": {
        "id": "GQS6ggBzyrGo"
      },
      "source": [
        "#### Note here that X is a vector representing the features of the data, and y is the vector representing the labels (targets)"
      ]
    },
    {
      "cell_type": "markdown",
      "metadata": {
        "id": "t84LyIykyrGo"
      },
      "source": [
        "### Split data into training and test sets\n",
        "\n",
        "But before we build a model we need to split the data up into a training and test sets. We can create them by splitting our `X` and `y` tensors.\n",
        "\n",
        "> **Note:** When dealing with real-world data, this step is typically done right at the start of a project (the test set should always be kept separate from all other data). We want our model to learn on training data and then evaluate it on test data to get an indication of how well it **generalizes** to unseen examples. Contamination of the test set with examples from the training set is a red flag and will hugely drop the confidence of your model's performance.\n"
      ]
    },
    {
      "cell_type": "code",
      "execution_count": null,
      "metadata": {
        "colab": {
          "base_uri": "https://localhost:8080/"
        },
        "id": "_FGEn9eyyrGo",
        "outputId": "cb6a00d3-9acd-4d67-be0f-9e088ba27817"
      },
      "outputs": [
        {
          "output_type": "execute_result",
          "data": {
            "text/plain": [
              "(40, 40, 10, 10)"
            ]
          },
          "metadata": {},
          "execution_count": 3
        }
      ],
      "source": [
        "# Create train/test split\n",
        "train_split = int(0.8 * len(X)) # 80% of data used for training set, 20% for testing\n",
        "X_train, y_train = X[:train_split], y[:train_split]\n",
        "X_test, y_test = X[train_split:], y[train_split:]\n",
        "\n",
        "len(X_train), len(y_train), len(X_test), len(y_test)"
      ]
    },
    {
      "cell_type": "markdown",
      "metadata": {
        "id": "uux6ikUfyrGp"
      },
      "source": [
        "Let's visualise the data we created!\n",
        "\n",
        "We use model_0 as the least squares and model_1 as the gradient descent."
      ]
    },
    {
      "cell_type": "code",
      "execution_count": null,
      "metadata": {
        "id": "bPDWqlo7yrGp"
      },
      "outputs": [],
      "source": [
        "def plot_predictions(train_data=X_train,\n",
        "                     train_labels=y_train,\n",
        "                     test_data=X_test,\n",
        "                     test_labels=y_test,\n",
        "                     model_0_predict=None,\n",
        "                     model_1_predict=None):\n",
        "  \"\"\"\n",
        "  Plots training data, test data and compares predictions.\n",
        "  \"\"\"\n",
        "  plt.figure(figsize=(10, 7))\n",
        "\n",
        "  # Plot training data in blue\n",
        "  plt.scatter(train_data, train_labels, c=\"b\", s=4, label=\"Training data\")\n",
        "\n",
        "  # Plot test data in green\n",
        "  plt.scatter(test_data, test_labels, c=\"g\", s=4, label=\"Testing data\")\n",
        "\n",
        "  if model_0_predict is not None:\n",
        "    # Plot the predictions in red (predictions were made on the test data)\n",
        "    plt.scatter(test_data, model_0_predict, c=\"m\", s=4, label=\"model_0\")\n",
        "\n",
        "  if model_1_predict is not None:\n",
        "    # Plot the predictions in red (predictions were made on the test data)\n",
        "    plt.scatter(test_data, model_1_predict, c=\"r\", s=4, label=\"model_1\")\n",
        "\n",
        "  # Show the legend\n",
        "  plt.legend(prop={\"size\": 14});"
      ]
    },
    {
      "cell_type": "code",
      "execution_count": null,
      "metadata": {
        "colab": {
          "base_uri": "https://localhost:8080/",
          "height": 599
        },
        "id": "QHR3BFXYyrGp",
        "outputId": "e85e9705-95b7-4466-c8b6-8e79fec4a23d"
      },
      "outputs": [
        {
          "output_type": "display_data",
          "data": {
            "text/plain": [
              "<Figure size 1000x700 with 1 Axes>"
            ],
            "image/png": "[encoded data removed]"
          },
          "metadata": {}
        }
      ],
      "source": [
        "plot_predictions()"
      ]
    },
    {
      "cell_type": "markdown",
      "metadata": {
        "id": "kth-JMp5yrGp"
      },
      "source": [
        "## 2. Let's build a linear regression model!"
      ]
    },
    {
      "cell_type": "markdown",
      "metadata": {
        "id": "cXSJD-jByrGp"
      },
      "source": [
        "* Use [`nn.Parameter`](https://pytorch.org/docs/stable/generated/torch.nn.parameter.Parameter.html) to create the model.\n",
        "* Do you know why we set [`requires_grad`](https://pytorch.org/docs/stable/generated/torch.Tensor.requires_grad.html) to `True`?\n",
        "* Read the section [`PyTorch: Defining new autograd functions`](https://pytorch.org/tutorials/beginner/pytorch_with_examples.html#:~:text=PyTorch%3A%20Defining%20new%20autograd%20functions,-Under%20the%20hood&text=The%20forward%20function%20computes%20output,to%20that%20same%20scalar%20value.) - Are you able to tell what role of the `forward` method is?\n",
        "* For the interested reader, this is a brief review of Object Oriented Programming (OOD) in Python - https://realpython.com/python3-object-oriented-programming/\n",
        "\n"
      ]
    },
    {
      "cell_type": "code",
      "execution_count": null,
      "metadata": {
        "id": "U3ROyUF-yrGp"
      },
      "outputs": [],
      "source": [
        "# Create a Linear Regression model class\n",
        "class LinearRegressionModel(nn.Module): # <- nearly everything in PyTorch is a nn.Module\n",
        "    def __init__(self):\n",
        "        super().__init__()\n",
        "        self.weights = nn.Parameter(torch.randn(1, # <- start with random weights (this will get adjusted as the model learns)\n",
        "                                                dtype=torch.float), # <- PyTorch datatype is float32 by default, we explicitly write it here for clarity\n",
        "                                   requires_grad=True) # <- can we update this value with gradient descent?\n",
        "\n",
        "        self.bias = nn.Parameter(torch.randn(1, # <- start with random bias (this will get adjusted as the model learns)\n",
        "                                            dtype=torch.float), # <- PyTorch loves float32 by default, we explicitly write it here for clarity\n",
        "                                requires_grad=True) # <- can we update this value with gradient descent?\n",
        "\n",
        "    # Forward defines the computation in the model\n",
        "    def forward(self, x: torch.Tensor) -> torch.Tensor: # <- \"x\" is the input data (e.g. training/testing features)\n",
        "        return self.weights * x + self.bias # <- this is the linear regression formula (y = beta_1*x + beta_0)"
      ]
    },
    {
      "cell_type": "markdown",
      "metadata": {
        "id": "h4Egiq7myrGq"
      },
      "source": [
        "### Broadly, there are four essential modules in PyTorch that can be used to create nearly any neural network. There are:\n",
        "* [`torch.nn`](https://pytorch.org/docs/stable/nn.html)\n",
        "* [`torch.optim`](https://pytorch.org/docs/stable/optim.html)\n",
        "* [`torch.utils.data.Dataset`](https://pytorch.org/docs/stable/data.html#torch.utils.data.Dataset)\n",
        "* [`torch.utils.data.DataLoader`](https://pytorch.org/docs/stable/data.html).\n",
        "\n",
        "| PyTorch module | What does it do? |\n",
        "| ----- | ----- |\n",
        "| [`torch.nn`](https://pytorch.org/docs/stable/nn.html) | Contains all of the building blocks for computational graphs (essentially a series of computations executed in a particular way). |\n",
        "| [`torch.nn.Parameter`](https://pytorch.org/docs/stable/generated/torch.nn.parameter.Parameter.html#parameter) | Stores tensors that can be used with `nn.Module`. If `requires_grad=True` gradients (used for updating model parameters via [**gradient descent**](https://ml-cheatsheet.readthedocs.io/en/latest/gradient_descent.html))  are calculated automatically, this is often referred to as \"autograd\".  |\n",
        "| [`torch.nn.Module`](https://pytorch.org/docs/stable/generated/torch.nn.Module.html#torch.nn.Module) | The base class for all neural network modules, all the building blocks for neural networks are subclasses. If you're building a neural network in PyTorch, your models should subclass `nn.Module`. Requires a `forward()` method be implemented. |\n",
        "| [`torch.optim`](https://pytorch.org/docs/stable/optim.html) | Contains various optimization algorithms (these tell the model parameters stored in `nn.Parameter` how to best change to improve gradient descent and in turn reduce the loss). |\n",
        "| `def forward()` | All `nn.Module` subclasses require a `forward()` method, this defines the computation that will take place on the data passed to the particular `nn.Module` (e.g. the linear regression formula above). |\n",
        "\n",
        "If the above sounds complex, think of it like this, almost everything in a PyTorch neural network comes from `torch.nn`,\n",
        "* `nn.Module` contains the larger building blocks (layers)\n",
        "* `nn.Parameter` contains the smaller parameters like weights and biases (put these together to make `nn.Module`(s))\n",
        "* `forward()` tells the larger blocks how to make calculations on inputs (tensors full of data) within  `nn.Module`(s)\n",
        "* `torch.optim` contains optimization methods on how to improve the parameters within `nn.Parameter` to better represent input data\n",
        "\n",
        "![a pytorch linear model with annotations](https://raw.githubusercontent.com/mrdbourke/pytorch-deep-learning/main/images/01-pytorch-linear-model-annotated.png)\n",
        "*Basic building blocks of creating a PyTorch model by subclassing `nn.Module`. For objects that subclass `nn.Module`, the `forward()` method must be defined.*\n",
        "\n",
        "> **Resource:** See more of these essential modules and their uses cases in the [official PyTorch Cheat Sheet](https://pytorch.org/tutorials/beginner/ptcheat.html).\n",
        "\n",
        "\n",
        "\n"
      ]
    },
    {
      "cell_type": "code",
      "execution_count": null,
      "metadata": {
        "colab": {
          "base_uri": "https://localhost:8080/"
        },
        "id": "5MWmcFHzyrGq",
        "outputId": "5b56c88e-829d-47c8-e314-48f9030b7418"
      },
      "outputs": [
        {
          "output_type": "execute_result",
          "data": {
            "text/plain": [
              "[Parameter containing:\n",
              " tensor([0.3367], requires_grad=True),\n",
              " Parameter containing:\n",
              " tensor([0.1288], requires_grad=True)]"
            ]
          },
          "metadata": {},
          "execution_count": 7
        }
      ],
      "source": [
        "# Set manual seed since nn.Parameter are randomly initialzied\n",
        "# Briefly, manual_seed is a way to guarantee that the randomness in initialising the model can be reproduced when using the correct seed - ask the demonstrator if this part is not clear\n",
        "# 42 is because....well, Douglas Adams!\n",
        "torch.manual_seed(42)\n",
        "\n",
        "# Create an instance of the model (this is a subclass of nn.Module that contains nn.Parameter(s))\n",
        "model_1 = LinearRegressionModel()\n",
        "\n",
        "# Check the nn.Parameter(s) within the nn.Module subclass we created\n",
        "list(model_1.parameters())"
      ]
    },
    {
      "cell_type": "markdown",
      "metadata": {
        "id": "5M6N_UWoyrGq"
      },
      "source": [
        "We can also get the state (what the model contains) of the model using [`.state_dict()`](https://pytorch.org/docs/stable/generated/torch.nn.Module.html#torch.nn.Module.state_dict)."
      ]
    },
    {
      "cell_type": "code",
      "execution_count": null,
      "metadata": {
        "colab": {
          "base_uri": "https://localhost:8080/"
        },
        "id": "5m2Ba7J1yrGq",
        "outputId": "8e3c42ef-451b-49fd-f8c0-7af3cb9d58c5"
      },
      "outputs": [
        {
          "output_type": "execute_result",
          "data": {
            "text/plain": [
              "OrderedDict([('weights', tensor([0.3367])), ('bias', tensor([0.1288]))])"
            ]
          },
          "metadata": {},
          "execution_count": 8
        }
      ],
      "source": [
        "# List named parameters\n",
        "model_1.state_dict()"
      ]
    },
    {
      "cell_type": "markdown",
      "metadata": {
        "id": "ybYwLfLhyrGq"
      },
      "source": [
        "`state_dict()` will be crucial later on when it comes to saving and loading PyTorch models."
      ]
    },
    {
      "cell_type": "markdown",
      "metadata": {
        "id": "5vTE8xqUyrGq"
      },
      "source": [
        "Notice how the values for `weights` and `bias` from `model_1.state_dict()` come out as random float tensors? This is becuase we initialized them above using `torch.randn()`. Essentially we want to start from random parameters and get the model to update them towards parameters that fit our data best (the super secret hardcoded `weight` and `bias` values we set when creating our straight line data). Remember, that the purpose of this entire exercise is to use ML to find out 'ostensibly' unknown parameter values (weight + bias) using only the training observations (data) and thier corresponding predictions.\n",
        "\n",
        "\n"
      ]
    },
    {
      "cell_type": "markdown",
      "metadata": {
        "id": "nqoNwhguyrGq"
      },
      "source": [
        "### Making predictions using [`torch.inference_mode()`](https://pytorch.org/docs/stable/generated/torch.inference_mode.html)\n",
        "We here attempting the guage the predictive power of the model we built **before** training it. To check this we can pass it the test data `X_test` to see how closely it predicts `y_test`.\n",
        "\n",
        ">**What do you expect the error rate to be?** How do you expect the model that you built above to perform? Remember, we have not yet conducted any 'training'.\n",
        "\n",
        "When we pass data to our model, it'll go through the model's `forward()` method and produce a result using the computation we've defined. However, it'll use parameter values (weights and biases) that are completely random and are of no significance whatsoever to the desired output of the model.\n",
        "\n",
        "`torch.inference_mode()` is a [context manager](https://realpython.com/python-with-statement/) that facilitates the process of generating predictions from a model without altering the model's parameters. In other words, we just want to test the model, no learning is expected to take place. You can also use `torch.no_grad()` which does exactly the same thing but is a little bit slower."
      ]
    },
    {
      "cell_type": "code",
      "execution_count": null,
      "metadata": {
        "id": "jQZqzygJyrGq"
      },
      "outputs": [],
      "source": [
        "# Make predictions with model\n",
        "with torch.inference_mode():\n",
        "    y_preds = model_1(X_test)\n",
        "\n",
        "# Note: in older PyTorch code you might also see torch.no_grad()\n",
        "# https://twitter.com/PyTorch/status/1437838231505096708?s=20\n",
        "# with torch.no_grad():\n",
        "#   y_preds = model_1(X_test)"
      ]
    },
    {
      "cell_type": "markdown",
      "metadata": {
        "id": "JxJNddMZyrGq"
      },
      "source": [
        "\n",
        "What do you expect the length of `y_preds` to be?"
      ]
    },
    {
      "cell_type": "code",
      "execution_count": null,
      "metadata": {
        "colab": {
          "base_uri": "https://localhost:8080/"
        },
        "id": "6p2lopKHyrGr",
        "outputId": "b7aa9085-0455-4b3a-da11-9a1a0cc7d341"
      },
      "outputs": [
        {
          "output_type": "execute_result",
          "data": {
            "text/plain": [
              "10"
            ]
          },
          "metadata": {},
          "execution_count": 10
        }
      ],
      "source": [
        "len(y_preds)"
      ]
    },
    {
      "cell_type": "code",
      "execution_count": null,
      "metadata": {
        "colab": {
          "base_uri": "https://localhost:8080/"
        },
        "id": "OoDshrmGyrGr",
        "outputId": "343f85f6-34ad-4b48-91fe-87c499e6bd87"
      },
      "outputs": [
        {
          "output_type": "stream",
          "name": "stdout",
          "text": [
            "Number of testing samples: 10\n",
            "Number of predictions made: 10\n",
            "Predicted values:\n",
            "tensor([[0.3982],\n",
            "        [0.4049],\n",
            "        [0.4116],\n",
            "        [0.4184],\n",
            "        [0.4251],\n",
            "        [0.4318],\n",
            "        [0.4386],\n",
            "        [0.4453],\n",
            "        [0.4520],\n",
            "        [0.4588]])\n"
          ]
        }
      ],
      "source": [
        "# Check the predictions\n",
        "print(f\"Number of testing samples: {len(X_test)}\")\n",
        "print(f\"Number of predictions made: {len(y_preds)}\")\n",
        "print(f\"Predicted values:\\n{y_preds}\")"
      ]
    },
    {
      "cell_type": "markdown",
      "metadata": {
        "id": "9hqil_xRyrGr"
      },
      "source": [
        "This is because of the kind of data we're using. For our straight line, one `X` value maps to one `y` value.\n",
        "\n",
        "However, machine learning models are very flexible. You could have 100 `X` values mapping to one, two, three or 10 `y` values. It all depends on what you're working on.\n",
        "\n",
        "Our predictions are still numbers on a page, let's visualize them with our `plot_predictions()` function we created above."
      ]
    },
    {
      "cell_type": "code",
      "execution_count": null,
      "metadata": {
        "colab": {
          "base_uri": "https://localhost:8080/",
          "height": 599
        },
        "id": "jAg0JzS2yrGr",
        "outputId": "9f9748e1-e28a-417b-ee97-f3effbaea786"
      },
      "outputs": [
        {
          "output_type": "display_data",
          "data": {
            "text/plain": [
              "<Figure size 1000x700 with 1 Axes>"
            ],
            "image/png": "[encoded data removed]"
          },
          "metadata": {}
        }
      ],
      "source": [
        "plot_predictions(model_1_predict=y_preds)"
      ]
    },
    {
      "cell_type": "markdown",
      "metadata": {
        "id": "qoeT0ZncyrGr"
      },
      "source": [
        "On average, what do you expect the error in each prediction to be?\n",
        "\n"
      ]
    },
    {
      "cell_type": "code",
      "execution_count": null,
      "metadata": {
        "colab": {
          "base_uri": "https://localhost:8080/"
        },
        "id": "81lhiCywyrGr",
        "outputId": "0311c19e-2cc0-4791-f978-306fa18a497d"
      },
      "outputs": [
        {
          "output_type": "execute_result",
          "data": {
            "text/plain": [
              "tensor([[0.4535],\n",
              "        [0.4599],\n",
              "        [0.4757],\n",
              "        [0.4904],\n",
              "        [0.4899],\n",
              "        [0.5166],\n",
              "        [0.4936],\n",
              "        [0.5265],\n",
              "        [0.5079],\n",
              "        [0.5343]])"
            ]
          },
          "metadata": {},
          "execution_count": 13
        }
      ],
      "source": [
        "#difference between the real values of the targets (labels of the test set) and the predicted labels by the model before any training is performed....obviously, performance is not optimal.\n",
        "y_test - y_preds"
      ]
    },
    {
      "cell_type": "markdown",
      "metadata": {
        "id": "srdxq9dFyrGr"
      },
      "source": [
        "## 3. Estimate model parameters with least square minimizer\n",
        "Right now our model is making predictions using random parameters to make calculations, it's basically guessing (randomly). You can see this from the errors, they're essentially hovering around 'chance', 50/50!\n",
        "\n",
        "To fix that, we can estimate the model's parameters, the `weights` ($\\beta_1$) and `bias` ($\\beta_0$) values we set randomly using `nn.Parameter()` and `torch.randn()` to be something that better represents the data.\n",
        "\n",
        "The least squares approach chooses $\\beta_1$  and $\\beta_0$ to minimize the residual sum of squares(RSS). The minimizing values can be shown to be\n",
        "\n",
        "$$\n",
        "\\hat{\\beta_1}=\\frac{\\sum^{n}_{i=1}(x_i-\\bar{x})(y_i-\\bar{y})}{\\sum^{n}_{i=1}(x_i-\\bar{x})^2},\n",
        "\\hat{\\beta_0}=\\bar{y}-\\hat{\\beta_1}\\bar{x}\n",
        "$$\n",
        "\n",
        "$$\n",
        "where \\space\n",
        "\\bar{y}=\\frac{1}{n}\\sum^n_{i=1}y_i,\n",
        "\\bar{x}=\\frac{1}{n}\\sum^n_{i=1}x_i, \\space are \\space the \\space sample \\space means.\n",
        "$$"
      ]
    },
    {
      "cell_type": "code",
      "execution_count": null,
      "metadata": {
        "colab": {
          "base_uri": "https://localhost:8080/"
        },
        "id": "F-VivQByyrGr",
        "outputId": "c4a18c75-79a4-4773-f3f6-a9cded6f4c7a"
      },
      "outputs": [
        {
          "output_type": "execute_result",
          "data": {
            "text/plain": [
              "[tensor(0.6999), tensor(0.3011)]"
            ]
          },
          "metadata": {},
          "execution_count": 14
        }
      ],
      "source": [
        "# Create a Linear Regression model with least square minimizer\n",
        "class LinearRegressionModel_0:\n",
        "    def __init__(self):\n",
        "        self.beta_0 = None\n",
        "        self.beta_1 = None\n",
        "\n",
        "    # Estimate model parameters with least square minimizer\n",
        "    def estimate(self, X, y):\n",
        "        # Calculate the mean of x and y\n",
        "        x_mean = torch.mean(X)\n",
        "        y_mean = torch.mean(y)\n",
        "\n",
        "        # Calculate β1 by equation\n",
        "        numerator = torch.sum((X - x_mean) * (y - y_mean))\n",
        "        denominator = torch.sum((X - x_mean) ** 2)\n",
        "        self.beta_1 = numerator / denominator\n",
        "\n",
        "        # Calculate β0 by equation\n",
        "        self.beta_0 = y_mean - self.beta_1 * x_mean\n",
        "\n",
        "    def predict(self, X):\n",
        "        # Predict\n",
        "        return self.beta_0 + self.beta_1 * X\n",
        "\n",
        "    def parameters(self):\n",
        "        # Return model parameters\n",
        "        return [self.beta_1, self.beta_0]\n",
        "\n",
        "# Create an instance of the model\n",
        "model_0 = LinearRegressionModel_0()\n",
        "\n",
        "# Estimate model parameters with least square minimizer\n",
        "model_0.estimate(X_train, y_train)\n",
        "\n",
        "# Check the Parameter\n",
        "list(model_0.parameters())"
      ]
    },
    {
      "cell_type": "markdown",
      "metadata": {
        "id": "UcYWL1IfyrGr"
      },
      "source": [
        "### Let's visualise these predictions!"
      ]
    },
    {
      "cell_type": "code",
      "execution_count": null,
      "metadata": {
        "colab": {
          "base_uri": "https://localhost:8080/",
          "height": 599
        },
        "id": "DoSxNMn5yrGr",
        "outputId": "08bda480-966c-4b2a-e4b5-b07b5732617a"
      },
      "outputs": [
        {
          "output_type": "display_data",
          "data": {
            "text/plain": [
              "<Figure size 1000x700 with 1 Axes>"
            ],
            "image/png": "[encoded data removed]"
          },
          "metadata": {}
        }
      ],
      "source": [
        "# Predicting the test set using model1\n",
        "y_preds_model_0 = model_0.predict(X_test)\n",
        "\n",
        "# Visualisation results\n",
        "plot_predictions(model_0_predict=y_preds_model_0)"
      ]
    },
    {
      "cell_type": "markdown",
      "metadata": {
        "id": "vHZ-pFOpyrGr"
      },
      "source": [
        "### victory!"
      ]
    },
    {
      "cell_type": "markdown",
      "metadata": {
        "id": "TSsm-xcAyrGr"
      },
      "source": [
        "## 4. [Optional below] Training `LinearRegressionModel()` with gradient descent\n",
        "\n",
        "Alternative to the above closed form parameter estimation, we can also estimate the model's parameters with gradient descent, the `weights` and `bias` values we set randomly using `nn.Parameter()` and `torch.randn()` to be something that better represents the data.\n",
        "\n",
        "We could hard code this (since we know the default values `weight=0.7` and `bias=0.3`), after all, these are the ground truth values and they would work! But that defeats the whole purpose of building the model!\n",
        "So, we need to train the model, shift its parameters gradually until the output of the model during the training process (y_train) gets closer to y (ground truth). At which point, we expect that the estimated `weight` and `bias` to be close to the ground truth values of `weight=0.7` and `bias=0.3`."
      ]
    },
    {
      "cell_type": "markdown",
      "metadata": {
        "id": "fOB12fbSyrGr"
      },
      "source": [
        "### Creating a loss function and optimizer in PyTorch\n",
        "\n",
        "For the model we built to update its parameters (that is the weights and bias in this case) on its own, we'll need to add a few more things: And that's a [**loss function**](https://pytorch.org/docs/stable/nn.html#loss-functions) as well as an [**optimizer**](https://pytorch.org/docs/stable/optim.html).\n",
        "\n",
        "The rolls of these are:\n",
        "\n",
        "| Function | What does it do? | Where does it live in PyTorch? | Common values |\n",
        "| ----- | ----- | ----- | ----- |\n",
        "| **Loss function** | Measures how wrong your models predictions (e.g. `y_preds`) are compared to the truth labels (`y_train` and `y_test`). Lower is better. | PyTorch has plenty of built-in loss functions in [`torch.nn`](https://pytorch.org/docs/stable/nn.html#loss-functions). | Mean absolute error (MAE) for regression problems ([`torch.nn.L1Loss()`](https://pytorch.org/docs/stable/generated/torch.nn.L1Loss.html)). Binary cross entropy for binary classification problems ([`torch.nn.BCELoss()`](https://pytorch.org/docs/stable/generated/torch.nn.BCELoss.html)).  |\n",
        "| **Optimizer** | Tells your model how to update its internal parameters to best lower the loss. | You can find various optimization function implementations in [`torch.optim`](https://pytorch.org/docs/stable/optim.html). | Stochastic gradient descent ([`torch.optim.SGD()`](https://pytorch.org/docs/stable/generated/torch.optim.SGD.html#torch.optim.SGD)). Adam optimizer ([`torch.optim.Adam()`](https://pytorch.org/docs/stable/generated/torch.optim.Adam.html#torch.optim.Adam)). |\n",
        "\n",
        "We will now create a loss and optimizer functions that are suitable for the model we built ( that is: a linear regression model). Bear in mind that the choice of which loss function and which optimizer to use will depend on the nature of the problem you are working on.\n",
        "\n",
        "However, there are some common choices that are known to work well such as the SGD (stochastic gradient descent) or Adam optimizers. And the MAE (mean absolute error) loss function for regression problems (predicting a number) or binary cross entropy loss function for classification problems (predicting one thing or another).\n",
        "\n",
        "For our problem, since we're predicting a number, we will use MAE (which is under [`torch.nn.L1Loss()`](https://pytorch.org/docs/stable/generated/torch.nn.L1Loss.html)) in PyTorch as our loss function.\n",
        "\n",
        "![what MAE loss looks like for our plot data](https://raw.githubusercontent.com/mrdbourke/pytorch-deep-learning/main/images/01-mae-loss-annotated.png)\n",
        "\n",
        "*Mean absolute error (MAE, in PyTorch: `torch.nn.L1Loss`) measures the absolute difference between two points (predictions and labels) and then takes the mean across all examples.*\n",
        "\n",
        "And we will use SGD, [`torch.optim.SGD(params, lr)`](https://pytorch.org/docs/stable/generated/torch.optim.SGD.html) where:\n",
        "\n",
        "* `params` is the target model parameters you'd like to optimize (in this case the `weights` and `bias` values we randomly set before).\n",
        "* `lr` is the **learning rate** you would like the optimizer to update the parameters with.\n",
        "\n",
        "Recall that:\n",
        "\n",
        "$$ \\boldsymbol{\\theta}' = \\boldsymbol{\\theta} - \\alpha \\nabla C$$\n",
        "\n",
        "Where $\\alpha$ is learning rate, $\\theta$ are the weights of the model before the update and $\\theta$**'** is the weight vector following the update. Higher $\\alpha$  means the optimizer will attempt larger updates (these can sometimes be too large and the optimizer will fail to converge on an optimal solution), smaller means the optimizer will attempt smaller updates (these can sometimes be too small and the optimizer will take too long to find the ideal values or may get stuck in a local minima).\n",
        "\n",
        "The learning rate is considered a **hyperparameter** (since it's set by the coder). Common starting values for the learning rate are `0.01`, `0.001`, `0.0001`, however, these can also be adjusted over time (this is called [learning rate scheduling](https://pytorch.org/docs/stable/optim.html#how-to-adjust-learning-rate)) and is a topic you will be introduced to later on.\n",
        "\n"
      ]
    },
    {
      "cell_type": "code",
      "execution_count": null,
      "metadata": {
        "id": "P1UbfODhyrGs"
      },
      "outputs": [],
      "source": [
        "# Create the loss function\n",
        "loss_fn = nn.L1Loss() # as discussed above MAE loss is L1Loss\n",
        "\n",
        "# Create the optimizer\n",
        "optimizer = torch.optim.SGD(params=model_1.parameters(), # parameters (weight + bias) of target model to optimize\n",
        "                            lr=0.01) # learning rate (how much the optimizer should change parameters at each step, higher=larger updates (less stable and may miss a global (or local) minimum), lower=smaller updates (might take a long time, or converge on a less optimal solution))"
      ]
    },
    {
      "cell_type": "markdown",
      "metadata": {
        "id": "qtjHdthByrGs"
      },
      "source": [
        "### Creating an optimization (ie training) loop in PyTorch\n",
        "\n",
        "One of the reasons PyTorch is quite a powerful framework to build AI models with is because it gives the developer total control of over all aspects of the training and testing processes. In PyTorch, the developer has to design a training/testing loop from the ground up.\n",
        "\n",
        "We are now going to bring the model_1 object, the loss and optimizer functions together we created to weave the training loop for this model.\n",
        "\n",
        "The training loop involves the model going through the training data and learning the relationships between the `features` (that is X) and `labels`, measuring how wrong our predictions are (training loss), propogating backword, and stepping the optimizer (it will make sense shortly!).\n",
        "\n",
        "On the other hand, the testing loop involves freezing the model using the `torch.inference_mode()` context manager, going through the testing data and evaluating how wrong we are (test loss) on the test data. Freezing here means that the model weights are **not** updated when we give it testing data. We are purely interested in its performance at that iteration of training/testing. For example, if we're at the 150th epoch, once the model weights have been updated, we freeze the parameters using `model.eval()` and `torch.inference_mode()`, then pass it some testing data to measure performance without actually any learning taking place.\n",
        "\n",
        "They are described as \"loops\" because we want our model to look (loop through) at each sample in each dataset (usually, several times).\n",
        "\n",
        "The PyTorch training loop can be viewed as follows (which is broadly agnostic of the type of architecture you are training):\n",
        "> 1. Set the model to training mode and run a forward pass.\n",
        "2. Calculate the loss.\n",
        "3. Zero the gradients using `torch.optim.Optimizer.zero_grad()`. This is important otherwise the starting point would be the gradients calculated in the previous iteration rather than zero.\n",
        "4. Backpropagate through the model and calculate the gradients with respect to each parameter where `requires_grad` was set to `True`. An excellent explanation can be found [here](https://discuss.pytorch.org/t/what-does-the-backward-function-do/9944). Briefly, parameters in pytorch often have the option of having `requires_grad` set to either True or False. If True, the parameter in question will be learnable (changable with training). Otherwise, it will always be 'frozen' and not change with training.\n",
        "5. Perfrom a model wide parameter update from 4.\n",
        "\n",
        "\n",
        "| Number | Step name | What does it do? | Code example |\n",
        "| ----- | ----- | ----- | ----- |\n",
        "| 1 | Forward pass | The model goes through all of the training data once, performing its `forward()` function calculations. | `model(x_train)` |\n",
        "| 2 | Calculate the loss | The model's outputs (predictions) are compared to the ground truth and evaluated to see how wrong they are. | `loss = loss_fn(y_pred, y_train)` |\n",
        "| 3 | Zero gradients | The optimizers gradients are set to zero (they are accumulated by default) so they can be recalculated for the specific training step. | `optimizer.zero_grad()` |\n",
        "| 4 | Perform backpropagation on the loss | Computes the gradient of the loss with respect for every model parameter to be updated  (each parameter with `requires_grad=True`). This is known as **backpropagation**, hence \"backwards\".  | `loss.backward()` |\n",
        "| 5 | Update the optimizer (**gradient descent**) | Update the parameters with `requires_grad=True` with respect to the loss gradients in order to improve them. | `optimizer.step()` |\n",
        "\n",
        "![pytorch training loop annotated](https://raw.githubusercontent.com/mrdbourke/pytorch-deep-learning/main/images/01-pytorch-training-loop-annotated.png)\n",
        "\n",
        "> **Note:** The above is just one simplified example of how the steps could be ordered or described. With experience you'll find making PyTorch training loops can be quite flexible.\n",
        "> And on the ordering of things, the above is a good default order but you may see slightly different orders. Some rules of thumb:\n",
        "> * Calculate the loss (`loss = ...`) *before* performing backpropagation on it (`loss.backward()`).\n",
        "> * Zero gradients (`optimizer.zero_grad()`) *before* stepping them (`optimizer.step()`).\n",
        "> * Step the optimizer (`optimizer.step()`) *after* performing backpropagation on the loss (`loss.backward()`).\n",
        "\n",
        "\n",
        "This is an excellent visual explanation of what Backpropagation is and how it works from the famous 3Blue1Brown Youtune channel [What is backpropagation really doing?](https://www.youtube.com/watch?v=Ilg3gGewQ5U)"
      ]
    },
    {
      "cell_type": "markdown",
      "metadata": {
        "id": "iKkMbE3ByrGv"
      },
      "source": [
        "\n",
        "### PyTorch testing loop\n",
        "\n",
        "As for the testing loop (evaluating our model), the typical steps include:\n",
        "\n",
        "| Number | Step name | What does it do? | Code example |\n",
        "| ----- | ----- | ----- | ----- |\n",
        "| 1 | Forward pass | The model goes through all of the training data once, performing its `forward()` function calculations. | `model(x_test)` |\n",
        "| 2 | Calculate the loss | The model's outputs (predictions) are compared to the ground truth and evaluated to see how wrong they are. | `loss = loss_fn(y_pred, y_test)` |\n",
        "| 3 | Calulate evaluation metrics (optional) | Alongisde the loss value you may want to calculate other evaluation metrics such as accuracy on the test set. | Custom functions |\n",
        "\n",
        "Notice the testing loop doesn't contain performing backpropagation (`loss.backward()`) or stepping the optimizer (`optimizer.step()`), this is because no parameters in the model are being changed during testing, they've already been calculated. Recall that the model is already in **evaluation** mode and all parameters are frozen. When testing, we're only interested in the output of the forward pass through the model.\n",
        "\n",
        "![pytorch annotated testing loop](https://raw.githubusercontent.com/mrdbourke/pytorch-deep-learning/main/images/01-pytorch-testing-loop-annotated.png)\n",
        "\n",
        "Remember that the purpose of the test loop is to keep track of the progression of the learning process. Essentially, we would like to, quantitatively, be able to tell how close, and how fast, the model's trainable parameters are moving towards a value that minimises the loss.\n",
        "\n",
        "Let's put all of the above together and train our model for 100 **epochs** (forward passes through the data) and we'll evaluate it every 10 epochs.\n"
      ]
    },
    {
      "cell_type": "code",
      "execution_count": null,
      "metadata": {
        "colab": {
          "base_uri": "https://localhost:8080/"
        },
        "id": "4ka49QNSyrGv",
        "outputId": "30d8319f-f5ee-4479-85ca-ba6a4cf2489b"
      },
      "outputs": [
        {
          "output_type": "stream",
          "name": "stdout",
          "text": [
            "Epoch: 0 | MAE Train Loss: 0.314001202583313 | MAE Test Loss: 0.4813689589500427 \n",
            "Epoch: 10 | MAE Train Loss: 0.19879117608070374 | MAE Test Loss: 0.34665900468826294 \n",
            "Epoch: 20 | MAE Train Loss: 0.08885543048381805 | MAE Test Loss: 0.21723385155200958 \n",
            "Epoch: 30 | MAE Train Loss: 0.056596409529447556 | MAE Test Loss: 0.14815595746040344 \n",
            "Epoch: 40 | MAE Train Loss: 0.0474015548825264 | MAE Test Loss: 0.11277981102466583 \n",
            "Epoch: 50 | MAE Train Loss: 0.043605510145425797 | MAE Test Loss: 0.09911008924245834 \n",
            "Epoch: 60 | MAE Train Loss: 0.040115512907505035 | MAE Test Loss: 0.08809003978967667 \n",
            "Epoch: 70 | MAE Train Loss: 0.036625515669584274 | MAE Test Loss: 0.0770699679851532 \n",
            "Epoch: 80 | MAE Train Loss: 0.033135510981082916 | MAE Test Loss: 0.06604989618062973 \n",
            "Epoch: 90 | MAE Train Loss: 0.029645521193742752 | MAE Test Loss: 0.055029820650815964 \n"
          ]
        }
      ],
      "source": [
        "torch.manual_seed(42)\n",
        "\n",
        "# Set the number of epochs (how many times the model will pass over the entirety of the training data, as it stands, X is really tiny but in practice you may be dealing with datasets containing millions of images)\n",
        "epochs = 100\n",
        "\n",
        "# Create empty loss lists to track values\n",
        "train_loss_values = []\n",
        "test_loss_values = []\n",
        "epoch_count = []\n",
        "\n",
        "for epoch in range(epochs):\n",
        "    ### Training\n",
        "\n",
        "    # Put model in training mode (this is the default state of a model)\n",
        "    model_1.train()\n",
        "\n",
        "    # 1. Forward pass on train data using the forward() method inside\n",
        "    y_pred = model_1(X_train)\n",
        "\n",
        "    # 2. Calculate the loss (how different are our models predictions to the ground truth)\n",
        "    loss = loss_fn(y_pred, y_train)\n",
        "\n",
        "    # 3. Zero grad of the optimizer\n",
        "    optimizer.zero_grad()\n",
        "\n",
        "    # 4. Loss backwards\n",
        "    loss.backward()\n",
        "\n",
        "    # 5. Progress the optimizer\n",
        "    optimizer.step()\n",
        "\n",
        "    ### Testing\n",
        "\n",
        "    # Put the model in evaluation mode\n",
        "    model_1.eval()\n",
        "\n",
        "    with torch.inference_mode():\n",
        "      # 1. Forward pass on test data\n",
        "      test_pred = model_1(X_test)\n",
        "\n",
        "      # 2. Caculate loss on test data\n",
        "      test_loss = loss_fn(test_pred, y_test.type(torch.float)) # predictions come in torch.float datatype, so comparisons need to be done with tensors of the same type\n",
        "\n",
        "      # Print out what's happening\n",
        "      if epoch % 10 == 0:\n",
        "            epoch_count.append(epoch)\n",
        "            train_loss_values.append(loss.detach().numpy())\n",
        "            test_loss_values.append(test_loss.detach().numpy())\n",
        "            print(f\"Epoch: {epoch} | MAE Train Loss: {loss} | MAE Test Loss: {test_loss} \")"
      ]
    },
    {
      "cell_type": "markdown",
      "metadata": {
        "id": "1rSFa2qnyrGv"
      },
      "source": [
        "#### Observe the trend in the training loss, why do you think it's going down?\n",
        "#### Compare the decreasing trends in training and testing losses, what do you notice? What is reason behind the disparity?"
      ]
    },
    {
      "cell_type": "code",
      "execution_count": null,
      "metadata": {
        "colab": {
          "base_uri": "https://localhost:8080/",
          "height": 674
        },
        "id": "-deDUR-jyrGv",
        "outputId": "1325fe70-9d78-4c03-966b-30f1f395dec8"
      },
      "outputs": [
        {
          "output_type": "display_data",
          "data": {
            "text/plain": [
              "<Figure size 1200x720 with 1 Axes>"
            ],
            "image/png": "[encoded data removed]"
          },
          "metadata": {}
        }
      ],
      "source": [
        "# Plot the loss curves\n",
        "plt.figure(figsize=(10, 6), dpi=120)\n",
        "plt.plot(epoch_count, train_loss_values, label=\"Train loss\")\n",
        "plt.plot(epoch_count, test_loss_values, label=\"Test loss\")\n",
        "plt.title(\"Training and test loss curves\")\n",
        "plt.ylabel(\"Loss\")\n",
        "plt.xlabel(\"Epochs\")\n",
        "plt.legend();"
      ]
    },
    {
      "cell_type": "markdown",
      "metadata": {
        "id": "Q4a0T3AnyrGv"
      },
      "source": [
        "#### You can now see the trends visually on the graph. Revisit the questions above and recall that `loss` is a measure of how wrong the model is.\n",
        "Now, why do you think the loss is going down with each epoch? What happens if we increased the epochs from 100 to 1000? What would happen if keep it at 100 but decrease the learning by 10 folds?\n",
        "\n",
        "We are not going to inspect our [`.state_dict()`](https://pytorch.org/tutorials/recipes/recipes/what_is_state_dict.html)"
      ]
    },
    {
      "cell_type": "code",
      "execution_count": null,
      "metadata": {
        "colab": {
          "base_uri": "https://localhost:8080/"
        },
        "id": "D9ZrAwdcyrGv",
        "outputId": "7f1ff643-aa2e-4cb4-d9b0-82299b887898"
      },
      "outputs": [
        {
          "output_type": "stream",
          "name": "stdout",
          "text": [
            "############################################################\n",
            "The model learned the following values for weights and bias:\n",
            "OrderedDict([('weights', tensor([0.5817])), ('bias', tensor([0.3598]))])\n",
            "\n",
            "And the original values for weights and bias are:\n",
            "weights: 0.7, bias: 0.3\n",
            "############################################################\n"
          ]
        }
      ],
      "source": [
        "# Find our model's learned parameters\n",
        "print(\"###\"*20)\n",
        "print(\"The model learned the following values for weights and bias:\")\n",
        "print(model_1.state_dict())\n",
        "print(\"\\nAnd the original values for weights and bias are:\")\n",
        "print(f\"weights: {weight}, bias: {bias}\")\n",
        "print(\"###\"*20)\n"
      ]
    },
    {
      "cell_type": "markdown",
      "metadata": {
        "id": "HxWwAEKeyrGv"
      },
      "source": [
        "You clearly see that the model's prameters have moved significantly closer from their random initialisation to the correct values of weights and bias!\n",
        "> Can you make the distance between the learned parameters and the real ones (the ground truth) even smaller? Experiment with increasing the epochs to 200 and see what happens.\n",
        "\n",
        "\n",
        "> **Exercise:** Try changing the `torch.manual_seed()` value two cells above, see what happens to the weights and bias values. Try restarting the runtime (or acessing the notebook from a different computer), when using the same seed (42), do you get the same results?!\n"
      ]
    },
    {
      "cell_type": "markdown",
      "metadata": {
        "id": "AsULpqO7yrGv"
      },
      "source": [
        "## 5. Making predictions with the two above models (inference)\n",
        "\n",
        "Once you've trained a model, you'll likely want to make predictions with it.\n",
        "\n",
        "We've already seen a glimpse of this in the training and testing code above, the steps to do it outside of the training/testing loop are similar.\n",
        "\n",
        "There are three things to remember when making predictions (also called performing inference) with a PyTorch model:\n",
        "\n",
        "1. You have to set the model to evaluation mode (`model.eval()`) before the forward pass.\n",
        "2. Make the predictions using the inference mode context manager (`with torch.inference_mode(): ...`).\n",
        "3. All predictions should be made with objects on the same device (e.g. data and model on GPU only or data and model on CPU only). More on this below...\n",
        "\n",
        "\n",
        "You will note that all of the above was done in the training/testing loop presented earlier. Moreover, the first two items make sure all helpful calculations and settings PyTorch uses behind the scenes during training but aren't necessary for inference are turned off (this results in faster computation). And the third ensures that you won't run into cross-device errors."
      ]
    },
    {
      "cell_type": "code",
      "execution_count": null,
      "metadata": {
        "colab": {
          "base_uri": "https://localhost:8080/"
        },
        "id": "lui4zatQyrGv",
        "outputId": "14a8b876-04e1-43f0-a3ef-83a08425a02b"
      },
      "outputs": [
        {
          "output_type": "execute_result",
          "data": {
            "text/plain": [
              "tensor([[0.8251],\n",
              "        [0.8368],\n",
              "        [0.8484],\n",
              "        [0.8600],\n",
              "        [0.8717],\n",
              "        [0.8833],\n",
              "        [0.8949],\n",
              "        [0.9066],\n",
              "        [0.9182],\n",
              "        [0.9298]])"
            ]
          },
          "metadata": {},
          "execution_count": 20
        }
      ],
      "source": [
        "# 1. Set the model in evaluation mode\n",
        "model_1.eval()\n",
        "\n",
        "# 2. Setup the inference mode context manager\n",
        "with torch.inference_mode():\n",
        "  # 3. Make sure the calculations are done with the model and data on the same device\n",
        "  # in our case, we haven't setup device-agnostic code yet so our data and model are\n",
        "  # on the CPU by default.\n",
        "  # model_1.to(device)\n",
        "  # X_test = X_test.to(device)\n",
        "  y_preds = model_1(X_test)\n",
        "\n",
        "y_preds"
      ]
    },
    {
      "cell_type": "markdown",
      "metadata": {
        "id": "ERoNObIryrGv"
      },
      "source": [
        "Let's visualise these predictions!"
      ]
    },
    {
      "cell_type": "code",
      "execution_count": null,
      "metadata": {
        "colab": {
          "base_uri": "https://localhost:8080/",
          "height": 599
        },
        "id": "vwK8SMozyrGv",
        "outputId": "7c4ba520-39eb-485b-8cd0-8b498872286f"
      },
      "outputs": [
        {
          "output_type": "display_data",
          "data": {
            "text/plain": [
              "<Figure size 1000x700 with 1 Axes>"
            ],
            "image/png": "[encoded data removed]"
          },
          "metadata": {}
        }
      ],
      "source": [
        "plot_predictions(model_1_predict=y_preds)"
      ]
    },
    {
      "cell_type": "markdown",
      "metadata": {
        "id": "bdPCQw1UyrGv"
      },
      "source": [
        "#### Finall,we can compare the predictions of the two models in the test set."
      ]
    },
    {
      "cell_type": "code",
      "execution_count": null,
      "metadata": {
        "colab": {
          "base_uri": "https://localhost:8080/",
          "height": 599
        },
        "id": "eQ9E5yoJyrGw",
        "outputId": "b4181f75-b9b1-44ca-a030-728e125842a4"
      },
      "outputs": [
        {
          "output_type": "display_data",
          "data": {
            "text/plain": [
              "<Figure size 1000x700 with 1 Axes>"
            ],
            "image/png": "[encoded data removed]"
          },
          "metadata": {}
        }
      ],
      "source": [
        "plot_predictions(model_0_predict=y_preds_model_0, model_1_predict=y_preds)"
      ]
    },
    {
      "cell_type": "markdown",
      "metadata": {
        "id": "NVIzEPcwyrGw"
      },
      "source": [
        "### And victory again!"
      ]
    }
  ],
  "metadata": {
    "colab": {
      "provenance": [],
      "include_colab_link": true
    },
    "kernelspec": {
      "display_name": "pytorch_gpu",
      "language": "python",
      "name": "python3"
    },
    "language_info": {
      "codemirror_mode": {
        "name": "ipython",
        "version": 3
      },
      "file_extension": ".py",
      "mimetype": "text/x-python",
      "name": "python",
      "nbconvert_exporter": "python",
      "pygments_lexer": "ipython3",
      "version": "3.11.5"
    }
  },
  "nbformat": 4,
  "nbformat_minor": 0
}